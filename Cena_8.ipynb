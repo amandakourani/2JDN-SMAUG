{
  "nbformat": 4,
  "nbformat_minor": 0,
  "metadata": {
    "colab": {
      "provenance": [],
      "authorship_tag": "ABX9TyN2cG0NWN9GckYPGfwdFhlK",
      "include_colab_link": true
    },
    "kernelspec": {
      "name": "python3",
      "display_name": "Python 3"
    },
    "language_info": {
      "name": "python"
    }
  },
  "cells": [
    {
      "cell_type": "markdown",
      "metadata": {
        "id": "view-in-github",
        "colab_type": "text"
      },
      "source": [
        "<a href=\"https://colab.research.google.com/github/amandakourani/2JDN-SMAUG/blob/Lais/Cena_8.ipynb\" target=\"_parent\"><img src=\"https://colab.research.google.com/assets/colab-badge.svg\" alt=\"Open In Colab\"/></a>"
      ]
    },
    {
      "cell_type": "code",
      "execution_count": null,
      "metadata": {
        "id": "kUWDiWrJVIOW"
      },
      "outputs": [],
      "source": [
        "label luta_continua:\n",
        "\n",
        "    scene rua_movimentada\n",
        "    show principal[determinado, cuidado] in center\n",
        "    \n",
        "    narrator \"Você está lutando para sobreviver e cuidar da sua família. A luta de classes é dura, mas você está disposto a enfrentar todos os desafios.\"\n",
        "    \n",
        "    menu:\n",
        "        \"Continuar trabalhando duro e cuidando da saúde\":\n",
        "            increase_health(10)\n",
        "            increase_financial(10)\n",
        "            jump final_cansado_onibus\n",
        "        \n",
        "        \"Desistir e perder a esperança\":\n",
        "            decrease_health(10)\n",
        "            decrease_financial(10)\n",
        "            jump final_desacordado\n",
        "\n",
        "label final_cansado_onibus:\n",
        "\n",
        "    scene onibus\n",
        "    show principal[cansado] in center\n",
        "    \n",
        "    narrator \"A luta de classes é implacável, mas você conseguiu sobreviver e cuidar da sua família. Apesar de não ter atingido 100% em todas as variáveis e não ter alcançado o objetivo de 1 milhão de reais, você provou que a luta é possível. Parabéns, guerreiro.\"\n",
        "    end_game()\n",
        "\n",
        "label final_desacordado:\n",
        "\n",
        "    scene quarto\n",
        "    show principal[caido] in center\n",
        "    \n",
        "    narrator \"Infelizmente, a pressão da luta de classes foi demais para você. Você desistiu e perdeu a esperança. Seu corpo cedeu, deixando-o desacordado. Sua saúde está em zero e suas finanças estão em 100. Lembre-se, a luta é difícil, mas sempre há esperança.\"\n",
        "    end_game()\n",
        "\n"
      ]
    }
  ]
}