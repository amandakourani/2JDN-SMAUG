{
  "nbformat": 4,
  "nbformat_minor": 0,
  "metadata": {
    "colab": {
      "provenance": [],
      "authorship_tag": "ABX9TyOvgTN4w5Tb9ZWBq54YjAZf",
      "include_colab_link": true
    },
    "kernelspec": {
      "name": "python3",
      "display_name": "Python 3"
    },
    "language_info": {
      "name": "python"
    }
  },
  "cells": [
    {
      "cell_type": "markdown",
      "metadata": {
        "id": "view-in-github",
        "colab_type": "text"
      },
      "source": [
        "<a href=\"https://colab.research.google.com/github/amandakourani/2JDN-SMAUG/blob/Lais/Cena_7.ipynb\" target=\"_parent\"><img src=\"https://colab.research.google.com/assets/colab-badge.svg\" alt=\"Open In Colab\"/></a>"
      ]
    },
    {
      "cell_type": "code",
      "execution_count": null,
      "metadata": {
        "id": "kUWDiWrJVIOW"
      },
      "outputs": [],
      "source": [
        "label agravamento_saude_mae:\n",
        "\n",
        "    scene quarto_mae\n",
        "    show principal[preocupado, chorando] in left\n",
        "    \n",
        "    narrator \"A saúde da sua mãe está piorando e você precisa encontrar uma maneira de pagar pelos tratamentos médicos.\"\n",
        "    \n",
        "    principal \"Mãe, eu amo tanto a senhora, sempre fez de tudo por mim. Me desculpe por estar falhando com a senhora, me desculpa mesmo, eu estou tentando o meu melhor.\"\n",
        "    \n",
        "    menu:\n",
        "        \"Usar todas as economias para pagar pelo tratamento da mãe\":\n",
        "            decrease_financial(50)\n",
        "            decrease_health(20)\n",
        "            decrease_family(20)\n",
        "        \n",
        "        \"Pedir ajuda a amigos e familiares\":\n",
        "            decrease_family(10)\n",
        "    \n",
        "    # Restante do código...\n"
      ]
    }
  ]
}