{
  "nbformat": 4,
  "nbformat_minor": 0,
  "metadata": {
    "colab": {
      "provenance": [],
      "authorship_tag": "ABX9TyPgx2c+n2GQNGFZb5LNnDX3",
      "include_colab_link": true
    },
    "kernelspec": {
      "name": "python3",
      "display_name": "Python 3"
    },
    "language_info": {
      "name": "python"
    }
  },
  "cells": [
    {
      "cell_type": "markdown",
      "metadata": {
        "id": "view-in-github",
        "colab_type": "text"
      },
      "source": [
        "<a href=\"https://colab.research.google.com/github/amandakourani/2JDN-SMAUG/blob/Lais/Cena_3.ipynb\" target=\"_parent\"><img src=\"https://colab.research.google.com/assets/colab-badge.svg\" alt=\"Open In Colab\"/></a>"
      ]
    },
    {
      "cell_type": "code",
      "execution_count": null,
      "metadata": {
        "id": "kUWDiWrJVIOW",
        "colab": {
          "base_uri": "https://localhost:8080/",
          "height": 131
        },
        "outputId": "7ae8103b-3405-4730-d6a4-290f7a2d5bc4"
      },
      "outputs": [
        {
          "output_type": "error",
          "ename": "IndentationError",
          "evalue": "ignored",
          "traceback": [
            "\u001b[0;36m  File \u001b[0;32m\"<tokenize>\"\u001b[0;36m, line \u001b[0;32m76\u001b[0m\n\u001b[0;31m    label terminar_estudos:\u001b[0m\n\u001b[0m    ^\u001b[0m\n\u001b[0;31mIndentationError\u001b[0m\u001b[0;31m:\u001b[0m unindent does not match any outer indentation level\n"
          ]
        }
      ],
      "source": [
        "label empreender:\n",
        "    # Ação a ser executada quando a opção \"Vender Bolo de Pote\" for escolhida\n",
        "    \n",
        "    scene rua\n",
        "    show principal[1] in left\n",
        "    \n",
        "    narrator \"Você decide empreender e vender bolos de pote.\"\n",
        "    pause 0.5\n",
        "    \n",
        "    # Reduz a saúde do principal devido ao desgaste físico e falta de sono\n",
        "    atualizar_saude(-10)\n",
        "    \n",
        "    # Aumenta o valor financeiro do principal devido às vendas\n",
        "    atualizar_financeiro(15)\n",
        "    \n",
        "    scene rua\n",
        "    show principal[1] in left\n",
        "    \n",
        "    narrator \"Você vai de porta em porta nas empresas e faculdades, vendendo os bolos de pote.\"\n",
        "    pause 0.5\n",
        "    \n",
        "    # Reduz ainda mais a saúde do principal devido ao esforço físico constante\n",
        "    atualizar_saude(-5)\n",
        "    \n",
        "    scene casa\n",
        "    show principal[1] in left\n",
        "    \n",
        "    narrator \"Você trabalha duro todos os dias na produção dos bolos e na venda.\"\n",
        "\n",
        "    ia \"Isso mesmo, produza bastante, lembre-se que com apenas 1 real você consegue construir um império!\"\n",
        "\n",
        "    pause 0.5\n",
        "    \n",
        "    scene rua\n",
        "    show principal[1] in left\n",
        "    \n",
        "    principal \"Estou quebrado, trabalhando muito e recebendo pouco. Mas bora, vou seguir, é melhor que nada.\"\n",
        "    pause 0.5\n",
        "    \n",
        "    scene rua\n",
        "    show principal[1] in left\n",
        "    \n",
        "    menu:\n",
        "        \"Continuar trabalhando na rua\":\n",
        "            # Ação a ser executada quando a opção \"Continuar trabalhando na barraca\" for escolhida\n",
        "            \n",
        "            scene rua noite\n",
        "            show principal[1] in left\n",
        "            \n",
        "            ia \"Continue trabalhando, o descanso não vai te trazer dinheiro, a única coisa que te traz dinheiro é o seu esforço!\"\n",
        "\n",
        "            principal \"Cara, eu estou moído, mas vou ficar até a saída do pessoal da noite, com certeza mais alguém vai comprar meus bolos.\"\n",
        "\n",
        "            pause 0.5\n",
        "            \n",
        "            # Reduz ainda mais a saúde do principal devido ao esforço físico constante\n",
        "            atualizar_saude(-10)\n",
        "            \n",
        "            jump volta_pra_casa\n",
        "        \n",
        "        \"Fechar a barraca e descansar um pouco\":\n",
        "            # Ação a ser executada quando a opção \"Fechar a barraca e descansar um pouco\" for escolhida\n",
        "            \n",
        "            scene rua tarde\n",
        "            show principal[1] in left\n",
        "            \n",
        "            ia \"NÃO ACREDITO QUE VOCÊ ESTÁ INDO EMBORA! TRABALHE ENQUANTO ELES DORMEM, TRABALHE ENQUANTO ELES DORMEM, TRABALHE ENQUANTO ELES DORMEM.\"\n",
        "\n",
        "            principal \"Estou muito cansado, não consigo andar mais nem uma quadra, vou para casa descansar, amanhã tem mais.\"\n",
        "            pause 0.5\n",
        "            \n",
        "            # Aumenta a saúde do principal devido ao descanso\n",
        "            atualizar_saude(5)\n",
        "            \n",
        "            jump volta_pra_casa\n",
        "\n",
        "\n",
        "   label terminar_estudos:\n",
        "    # Ação a ser executada quando a opção \"Terminar os estudos\" for escolhida\n",
        "\n",
        "    scene faculdade\n",
        "    show principal[1] in left\n",
        "\n",
        "    narrator \"Você decide terminar os estudos e se dedicar ao seu crescimento acadêmico.\"\n",
        "    pause 0.5\n",
        "\n",
        "    # Reduz a saúde mental do p1 devido à preocupação com a saúde da mãe\n",
        "    atualizar_saude_mental(-15)\n",
        "\n",
        "    scene casa\n",
        "    show principal[1] in left\n",
        "\n",
        "    narrator \"Enquanto você se dedica aos estudos, a saúde da sua mãe continua piorando.\"\n",
        "    pause 0.5\n",
        "\n",
        "    # Reduz ainda mais a saúde mental do p1 devido à preocupação contínua\n",
        "    atualizar_saude_mental(-10)\n",
        "\n",
        "    scene hospital\n",
        "    show principal[1] in left\n",
        "\n",
        "    narrator \"Você visita sua mãe no hospital e se sente impotente por não poder ajudá-la financeiramente.\"\n",
        "    pause 0.5\n",
        "\n",
        "    jump volta_pra_casa\n",
        "\n",
        "\n",
        "\n"
      ]
    },
    {
      "cell_type": "code",
      "source": [],
      "metadata": {
        "id": "SxDjTcUlkj2U"
      },
      "execution_count": null,
      "outputs": []
    }
  ]
}