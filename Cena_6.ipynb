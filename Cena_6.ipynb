{
  "nbformat": 4,
  "nbformat_minor": 0,
  "metadata": {
    "colab": {
      "provenance": [],
      "authorship_tag": "ABX9TyMT+ncvZREk+ZzIBzJOBWAU",
      "include_colab_link": true
    },
    "kernelspec": {
      "name": "python3",
      "display_name": "Python 3"
    },
    "language_info": {
      "name": "python"
    }
  },
  "cells": [
    {
      "cell_type": "markdown",
      "metadata": {
        "id": "view-in-github",
        "colab_type": "text"
      },
      "source": [
        "<a href=\"https://colab.research.google.com/github/amandakourani/2JDN-SMAUG/blob/Lais/Cena_6.ipynb\" target=\"_parent\"><img src=\"https://colab.research.google.com/assets/colab-badge.svg\" alt=\"Open In Colab\"/></a>"
      ]
    },
    {
      "cell_type": "code",
      "execution_count": null,
      "metadata": {
        "id": "kUWDiWrJVIOW"
      },
      "outputs": [],
      "source": [
        "label dilema_financeiro:\n",
        "\n",
        "    scene mesa_contas\n",
        "    show principal[preocupado] in left\n",
        "    \n",
        "    narrador \"As contas estão chegando e você precisa decidir o que pagar primeiro.\"\n",
        "    \n",
        "    menu:\n",
        "        \"Pagar o aluguel antes que seja tarde demais\":\n",
        "            atualizar_financeiro(-20)\n",
        "            atualizar_saude(-10)\n",
        "        \n",
        "        \"Pagar a conta de luz para evitar cortes\":\n",
        "            atualizar_financeiro(-10)\n",
        "            atualizar_saude(-5)\n",
        "    \n",
        "    menu:\n",
        "        \"Pedir um empréstimo com juros altos\":\n",
        "            atualizar_financeiro(-30)\n",
        "            atualizar_saude(10)\n",
        "        \n",
        "        \"Tentar ganhar dinheiro extra com um trabalho temporário\":\n",
        "            atualizar_financeiro(+20)\n",
        "            atualizar_saude(-10)\n",
        "    \n",
        "    # Restante do código...\n"
      ]
    }
  ]
}