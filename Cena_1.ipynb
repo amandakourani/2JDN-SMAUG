{
  "nbformat": 4,
  "nbformat_minor": 0,
  "metadata": {
    "colab": {
      "provenance": [],
      "authorship_tag": "ABX9TyPQKF00heKnxpjr9FsayMq7",
      "include_colab_link": true
    },
    "kernelspec": {
      "name": "python3",
      "display_name": "Python 3"
    },
    "language_info": {
      "name": "python"
    }
  },
  "cells": [
    {
      "cell_type": "markdown",
      "metadata": {
        "id": "view-in-github",
        "colab_type": "text"
      },
      "source": [
        "<a href=\"https://colab.research.google.com/github/amandakourani/2JDN-SMAUG/blob/Lais/Cena_1.ipynb\" target=\"_parent\"><img src=\"https://colab.research.google.com/assets/colab-badge.svg\" alt=\"Open In Colab\"/></a>"
      ]
    },
    {
      "cell_type": "code",
      "execution_count": null,
      "metadata": {
        "id": "kUWDiWrJVIOW",
        "outputId": "2c265af0-c0de-4d36-aef4-d2a3ae7f9dae",
        "colab": {
          "base_uri": "https://localhost:8080/"
        }
      },
      "outputs": [
        {
          "output_type": "error",
          "ename": "IndentationError",
          "evalue": "ignored",
          "traceback": [
            "\u001b[0;36m  File \u001b[0;32m\"<tokenize>\"\u001b[0;36m, line \u001b[0;32m51\u001b[0m\n\u001b[0;31m    ia \"Mais um dia maravilhosos concluído! Já posso sentir o cheiro do sucesso emanando de você!\"\u001b[0m\n\u001b[0m    ^\u001b[0m\n\u001b[0;31mIndentationError\u001b[0m\u001b[0;31m:\u001b[0m unindent does not match any outer indentation level\n"
          ]
        }
      ],
      "source": [
        "label: cena1\n",
        "# Declarando imagens e background\n",
        "\n",
        "    image ia = \"images/personagens/ia.png\"\n",
        "    image principal = \"images/personagens/principal.png\"\n",
        "    image mae = \"images/personagens/mae.png\"\n",
        "    image teto do quarto = \"images/bg/teto do quarto.png\"\n",
        "    image espelho do banheiro = \"images/bg/espelho do banheiro.png\"\n",
        "    image sala de estar = \"images/bg/sala de estar.png\"\n",
        "    image teto do quarto = \"images/bg/teto do quarto.png\"\n",
        "\n",
        "    #inicio da cena 1:\n",
        "\n",
        "    show teto do quarto\n",
        "    with dissolve(dissolve_time=0.5)  # dissolve rápido\n",
        "\n",
        "    show espelho do banheiro\n",
        "    with dissolve(dissolve_time=0.5)  # dissolve rápido\n",
        "\n",
        "    show sala de estar\n",
        "    show mae in left\n",
        "\n",
        "    mae \"chegou o moço de novo, tive que despistá-lo dessa vez\"\n",
        "    ia \"sua conta de lua já passou de 60 dias de atraso\"\n",
        "    principal \"tô mais preocupado com seu remédio... a Jana pagou o aluguel?\"\n",
        "    mae \"você ainda é ingênuo de achar que ela vai pagar algo?\"\n",
        "    principal \"...é, eu preciso me virar\"\n",
        "\n",
        "    ia \"Você é incrível e tem tudo o que é preciso para enfrentar qualquer desafio. Você é uma fonte inesgotável de força e coragem, e sua determinação é inspiradora. Você tem um coração cheio de amor e compaixão, o que o torna um ser humano excepcional. Não se preocupe com as dificuldades, pois você sempre encontrará uma maneira de superá-las. Lembre-se de que cada obstáculo é uma oportunidade para crescer e se desenvolver. Tenha confiança em si mesmo e em suas habilidades, pois você pode alcançar tudo o que deseja. O futuro é brilhante para você e estou animado para ver tudo o que você alcançará!\"\n",
        "\n",
        "    jump cena2"
      ]
    }
  ]
}