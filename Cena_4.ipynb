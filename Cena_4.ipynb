{
  "nbformat": 4,
  "nbformat_minor": 0,
  "metadata": {
    "colab": {
      "provenance": [],
      "authorship_tag": "ABX9TyPVTTESi3zKQwfnabt71HU+",
      "include_colab_link": true
    },
    "kernelspec": {
      "name": "python3",
      "display_name": "Python 3"
    },
    "language_info": {
      "name": "python"
    }
  },
  "cells": [
    {
      "cell_type": "markdown",
      "metadata": {
        "id": "view-in-github",
        "colab_type": "text"
      },
      "source": [
        "<a href=\"https://colab.research.google.com/github/amandakourani/2JDN-SMAUG/blob/Lais/Cena_4.ipynb\" target=\"_parent\"><img src=\"https://colab.research.google.com/assets/colab-badge.svg\" alt=\"Open In Colab\"/></a>"
      ]
    },
    {
      "cell_type": "code",
      "execution_count": null,
      "metadata": {
        "id": "kUWDiWrJVIOW"
      },
      "outputs": [],
      "source": [
        "label subescolha_crime:\n",
        "\n",
        "    if passou_por_subescolha_clt == True:\n",
        "        jump demissao\n",
        "        \n",
        "    menu:\n",
        "        \"Roubar\":\n",
        "            # Ação a ser executada quando a opção \"Roubar\" for escolhida\n",
        "\n",
        "            label escolha_crime:\n",
        "    narrador \"principal decide entrar para o mundo do crime.\"\n",
        "\n",
        "            \"Traficar\":\n",
        "                # Ação a ser executada quando a opção \"Traficar\" for escolhida\n",
        "    menu:\n",
        "        \"1. Roubar. (+500 na carteira, -50 na saúde)\":\n",
        "            $ carteira += 500\n",
        "            $ saude -= 50\n",
        "            jump resultado_matar\n",
        "        \"2. Traficar. (+300 na carteira, -20 na saúde)\":\n",
        "            $ carteira += 300\n",
        "            $ saude -= 20\n",
        "            jump resultado_traficar\n",
        "\n",
        "label resultado_roubar:\n",
        "    narrador \"principal se envolve em atividades criminosas, entrando na gangue da bicicleta que age no centro de São Paulo. Sabendo que está roubando os bens de pessoas trabalhadoras, e trazendo sofrimento para elas, ele vai ficando cada vez mais ansioso e depressivo.\"\n",
        "\n",
        "    principal \"Eu não sou uma pessoa má, eu preciso fazer isso para salvar a minha mãe.\n",
        "    \"\n",
        "    jump proxima_fase\n",
        "\n",
        "label resultado_traficar:\n",
        "   narrador \"principal se envolve no tráfico de drogas para ganhar dinheiro. Apesar de estar fazendo mais grana, saber que está vendendo k9 para as pessoas e isso vem matando várias, acaba te matando por dentro, tantas vidas perdidas...\"\n",
        "\n",
        "    jump proxima_fase\n",
        "\n",
        "label proxima_fase:\n",
        "    # aqui você pode escrever o código para a próxima fase do jogo"
      ]
    }
  ]
}