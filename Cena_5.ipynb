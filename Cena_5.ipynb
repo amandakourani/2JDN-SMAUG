{
  "nbformat": 4,
  "nbformat_minor": 0,
  "metadata": {
    "colab": {
      "provenance": [],
      "authorship_tag": "ABX9TyMLpa9OTALr2osh09IYSYRA",
      "include_colab_link": true
    },
    "kernelspec": {
      "name": "python3",
      "display_name": "Python 3"
    },
    "language_info": {
      "name": "python"
    }
  },
  "cells": [
    {
      "cell_type": "markdown",
      "metadata": {
        "id": "view-in-github",
        "colab_type": "text"
      },
      "source": [
        "<a href=\"https://colab.research.google.com/github/amandakourani/2JDN-SMAUG/blob/Lais/Cena_5.ipynb\" target=\"_parent\"><img src=\"https://colab.research.google.com/assets/colab-badge.svg\" alt=\"Open In Colab\"/></a>"
      ]
    },
    {
      "cell_type": "code",
      "execution_count": null,
      "metadata": {
        "id": "kUWDiWrJVIOW"
      },
      "outputs": [],
      "source": [
        "label consequencias_trabalho_corpo:\n",
        "\n",
        "    scene casa\n",
        "    show principal[cansado] in left\n",
        "    \n",
        "    if passou_por_subescolha_clt == True:\n",
        "        ia \"Pare de mimimi e vá trabalhar seu vagabundo. Está achando que assim você conseguirá algo em sua vida?\"\n",
        "        pause 0.5\n",
        "        narrator \"O personagem principal se olha no espelho enquanto vê sua aparência cansada, seus olhos estão fundos, sua pele cheia de marcas de expressão. Você vê a tristeza em seu rosto, sabendo que terá que sobreviver ao inferno novamente amanhã.\"\n",
        "        principal \"Estou tão cansado, não quero mais ir para aquele lugar, não quero mais ter que fazer nada. Gostaria de parar de existir.\"\n",
        "        atualizar_saude(-15)\n",
        "    \n",
        "    elif passou_por_subescolha_empreendedorismo == True:\n",
        "        ia \"O que aconteceu que você ainda não está produzindo seus bolos? Vamos para mais um dia de sucesso!\"\n",
        "        show principal[cansado] in left\n",
        "        narrator \"Seus pés estão cheios de bolhas, suas mãos com calos de tanto carregar a bolsa térmica e seus ombros cansados devido ao peso.\"\n",
        "        principal \"Será que vale a pena eu me matar para conseguir tão pouco retorno? Achei que seria diferente, vejo pessoas empreendendo no TikTok e vencendo, por que comigo isso não acontece?\"\n",
        "        atualizar_saude(-10)\n",
        "    \n",
        "    elif passou_por_subescolha_crime == True:\n",
        "        show principal[triste] in left\n",
        "        principal \"Sei que o que estou fazendo é errado. Me sinto tão culpado, estou com crises constantes de ansiedade, pois minha vida agora é prejudicar as outras pessoas. Será que o dinheiro vale a pena?\"\n",
        "        ia \"Deixe de choradeira!\"\n",
        "        atualizar_saude(-15)\n",
        "    \n",
        "    # Restante do código...\n"
      ]
    }
  ]
}